{
 "cells": [
  {
   "metadata": {},
   "cell_type": "markdown",
   "source": [
    "# This is a sample Jupyter Notebook\n",
    "\n",
    "Below is an example of a code cell. \n",
    "Put your cursor into the cell and press Shift+Enter to execute it and select the next one, or click 'Run Cell' button.\n",
    "\n",
    "Press Double Shift to search everywhere for classes, files, tool windows, actions, and settings.\n",
    "\n",
    "To learn more about Jupyter Notebooks in PyCharm, see [help](https://www.jetbrains.com/help/pycharm/ipython-notebook-support.html).\n",
    "For an overview of PyCharm, go to Help -> Learn IDE features or refer to [our documentation](https://www.jetbrains.com/help/pycharm/getting-started.html)."
   ],
   "id": "8a77807f92f26ee"
  },
  {
   "metadata": {
    "jupyter": {
     "is_executing": true
    }
   },
   "cell_type": "code",
   "source": [
    "import requests\n",
    "from pymongo import MongoClient\n",
    "\n",
    "# Step 1: Get data from public API\n",
    "api_url = \"https://fakestoreapi.com/products\"\n",
    "response = requests.get(api_url)\n",
    "product_data = response.json()\n",
    "\n",
    "# Step 2: Connect to MongoDB\n",
    "client = MongoClient(\"mongodb://localhost:27017/\")  # Change if using MongoDB Atlas\n",
    "db = client[\"store_db\"]          # Database name\n",
    "collection = db[\"products\"]      # Collection name\n",
    "\n",
    "# Optional: Clear previous data to avoid duplicates\n",
    "collection.delete_many({})\n",
    "\n",
    "# Step 3: Insert data into MongoDB\n",
    "collection.insert_many(product_data)\n",
    "\n",
    "print(\"✅ Product data successfully saved to MongoDB!\")\n",
    "\n"
   ],
   "id": "fbc121e30a2defb3",
   "outputs": [],
   "execution_count": null
  }
 ],
 "metadata": {
  "kernelspec": {
   "display_name": "Python 3",
   "language": "python",
   "name": "python3"
  },
  "language_info": {
   "codemirror_mode": {
    "name": "ipython",
    "version": 2
   },
   "file_extension": ".py",
   "mimetype": "text/x-python",
   "name": "python",
   "nbconvert_exporter": "python",
   "pygments_lexer": "ipython2",
   "version": "2.7.6"
  }
 },
 "nbformat": 4,
 "nbformat_minor": 5
}
